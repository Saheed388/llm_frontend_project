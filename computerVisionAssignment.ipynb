{
 "cells": [
  {
   "cell_type": "markdown",
   "id": "18c2f219",
   "metadata": {},
   "source": [
    "# Question 1"
   ]
  },
  {
   "cell_type": "code",
   "execution_count": null,
   "id": "ccb32b46",
   "metadata": {},
   "outputs": [],
   "source": [
    "In Nigeria, one of the booming tech spaces is fintech. Computer vision can improve payment systems in the following ways:\n",
    "Biometrics: Computer vision can be used for face recognition or  scanning to authenticate users quickly and\n",
    "    securely during transactions. This reduces fraud since faces are unique identifiers.\n",
    "QR-Code: Vision-based QR-code scanning can make mobile payments faster.\n",
    "Swipe and Pay: With gesture recognition and card image recognition, computer vision can enable “swipe and pay” where users wave their phone/card and the system validates it visually.\n",
    "\n"
   ]
  },
  {
   "cell_type": "markdown",
   "id": "29062800",
   "metadata": {},
   "source": [
    "# Question 2"
   ]
  },
  {
   "cell_type": "code",
   "execution_count": null,
   "id": "52173b5d",
   "metadata": {},
   "outputs": [],
   "source": [
    "In Nigeria, healthtech startups aim to improve access to quality healthcare. Computer vision can help in the following ways:\n",
    "\n",
    "Remote diagnosis: Using computer vision, patients can upload images of symptoms (skin rashes, eye infections, etc.),\n",
    "    and AI can provide  analysis before a doctor consultation.\n",
    "Medical imaging: CV can enhance access to radiology by automatically detecting anomalies in X-rays,\n",
    "    CT scans, or ultrasounds, especially in rural areas where doctors are scarce.\n",
    "Drug verification: Computer vision can help patients verify genuine drugs by scanning drug packaging and detecting counterfeits.\n",
    "- Telemedicine support: CV can be used for identity verification during online consultations to prevent impersonation and ensure secure healthcare delivery.\n"
   ]
  },
  {
   "cell_type": "markdown",
   "id": "7f4bdffc",
   "metadata": {},
   "source": [
    "# Imprting packages"
   ]
  },
  {
   "cell_type": "code",
   "execution_count": null,
   "id": "6d25c815",
   "metadata": {},
   "outputs": [],
   "source": [
    "import cv2\n",
    "import matplotlib.pyplot as plt\n",
    "\n"
   ]
  },
  {
   "cell_type": "markdown",
   "id": "fcbe5f08",
   "metadata": {},
   "source": [
    "# Data Loading"
   ]
  },
  {
   "cell_type": "code",
   "execution_count": null,
   "id": "df5e0598",
   "metadata": {},
   "outputs": [],
   "source": [
    " Load the corrupted image\n",
    "img = cv2.imread(\"corrupted_picture.jpg\")\n",
    "\n"
   ]
  },
  {
   "cell_type": "markdown",
   "id": "7e959c22",
   "metadata": {},
   "source": [
    "# Convert BGR (OpenCV default) to RGB for proper display\n"
   ]
  },
  {
   "cell_type": "code",
   "execution_count": null,
   "id": "b223ac5e",
   "metadata": {},
   "outputs": [],
   "source": [
    "img_rgb = cv2.cvtColor(img, cv2.COLOR_BGR2RGB)\n",
    "\n"
   ]
  },
  {
   "cell_type": "markdown",
   "id": "1cc49e03",
   "metadata": {},
   "source": [
    "# Show corrupted image\n"
   ]
  },
  {
   "cell_type": "code",
   "execution_count": null,
   "id": "976312db",
   "metadata": {},
   "outputs": [],
   "source": [
    "plt.figure(figsize=(6,6))\n",
    "plt.title(\"Corrupted Image\")\n",
    "plt.imshow(img_rgb)\n",
    "plt.axis(\"off\")\n",
    "plt.show()\n"
   ]
  },
  {
   "cell_type": "markdown",
   "id": "8a526f50",
   "metadata": {},
   "source": [
    "# Apply brightness and contrast correction\n"
   ]
  },
  {
   "cell_type": "code",
   "execution_count": null,
   "id": "c8b82635",
   "metadata": {},
   "outputs": [],
   "source": [
    "\n",
    "alpha = 1.5  \n",
    "beta = 30    \n",
    "\n",
    "restored = cv2.convertScaleAbs(img, alpha=alpha, beta=beta)\n",
    "restored_rgb = cv2.cvtColor(restored, cv2.COLOR_BGR2RGB)\n",
    "\n",
    "\n"
   ]
  },
  {
   "cell_type": "markdown",
   "id": "e687eea2",
   "metadata": {},
   "source": [
    "# Show restored image\n"
   ]
  },
  {
   "cell_type": "code",
   "execution_count": null,
   "id": "515f590a",
   "metadata": {},
   "outputs": [],
   "source": [
    "plt.figure(figsize=(6,6))\n",
    "plt.title(\"Restored Image\")\n",
    "plt.imshow(restored_rgb)\n",
    "plt.axis(\"off\")\n",
    "plt.show()\n",
    "\n",
    "print(f\"Restored with alpha={alpha}, beta={beta}\")"
   ]
  },
  {
   "cell_type": "markdown",
   "id": "d190ec0c",
   "metadata": {},
   "source": [
    "# Answer for Question 3\n"
   ]
  },
  {
   "cell_type": "code",
   "execution_count": null,
   "id": "652a39cc",
   "metadata": {},
   "outputs": [],
   "source": [
    "- Contrast (alpha) = 1.8 \n",
    "- Brightness (beta) = 40\n"
   ]
  }
 ],
 "metadata": {
  "kernelspec": {
   "display_name": "Python 3 (ipykernel)",
   "language": "python",
   "name": "python3"
  },
  "language_info": {
   "codemirror_mode": {
    "name": "ipython",
    "version": 3
   },
   "file_extension": ".py",
   "mimetype": "text/x-python",
   "name": "python",
   "nbconvert_exporter": "python",
   "pygments_lexer": "ipython3",
   "version": "3.9.7"
  }
 },
 "nbformat": 4,
 "nbformat_minor": 5
}
